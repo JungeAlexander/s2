{
 "cells": [
  {
   "cell_type": "code",
   "execution_count": null,
   "id": "8000abdb",
   "metadata": {},
   "outputs": [],
   "source": [
    "from collections import defaultdict\n",
    "import gzip\n",
    "import json\n",
    "\n",
    "import tqdm"
   ]
  },
  {
   "cell_type": "code",
   "execution_count": null,
   "id": "58ed24fe",
   "metadata": {},
   "outputs": [],
   "source": [
    "year_to_venue_to_count = defaultdict(lambda: defaultdict(int))"
   ]
  },
  {
   "cell_type": "code",
   "execution_count": null,
   "id": "3ef987d5",
   "metadata": {},
   "outputs": [],
   "source": [
    "with gzip.open(\"../data/interim/20210516-s2-open-research-corpus/2021-04-01/s2-corpus-filtered.gz\", \"rt\") as fin:\n",
    "    for line in tqdm.tqdm(fin):\n",
    "        j = json.loads(line)\n",
    "        try:\n",
    "            year_int = int(j[\"year\"])\n",
    "        except TypeError:\n",
    "            continue\n",
    "        year_to_venue_to_count[year_int][j[\"journalName\"]] += 1\n",
    "        if \"Medline\" in j[\"sources\"]:\n",
    "            year_to_venue_to_count[year_int][\"Medline\"] += 1"
   ]
  },
  {
   "cell_type": "code",
   "execution_count": null,
   "id": "7f410ed8",
   "metadata": {},
   "outputs": [],
   "source": [
    "with gzip.open(\"../data/interim/20210516-s2-open-research-corpus/2021-04-01/s2-corpus-filtered-counts.tsv.gz\", \"wt\") as fout:\n",
    "    for year, venue_to_count in year_to_venue_to_count.items():\n",
    "        for venue, count in venue_to_count.items():\n",
    "            fout.write(f\"{year}\\t{count}\\t{venue}\\n\")"
   ]
  },
  {
   "cell_type": "code",
   "execution_count": null,
   "id": "789de728",
   "metadata": {},
   "outputs": [],
   "source": []
  }
 ],
 "metadata": {
  "kernelspec": {
   "display_name": "Python 3",
   "language": "python",
   "name": "python3"
  },
  "language_info": {
   "codemirror_mode": {
    "name": "ipython",
    "version": 3
   },
   "file_extension": ".py",
   "mimetype": "text/x-python",
   "name": "python",
   "nbconvert_exporter": "python",
   "pygments_lexer": "ipython3",
   "version": "3.9.4"
  }
 },
 "nbformat": 4,
 "nbformat_minor": 5
}
