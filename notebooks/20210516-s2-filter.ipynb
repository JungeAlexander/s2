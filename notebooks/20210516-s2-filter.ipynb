{
 "cells": [
  {
   "cell_type": "code",
   "execution_count": null,
   "id": "dd27efad",
   "metadata": {},
   "outputs": [],
   "source": [
    "import gzip\n",
    "import json\n",
    "from pathlib import Path"
   ]
  },
  {
   "cell_type": "code",
   "execution_count": null,
   "id": "9f2c4581",
   "metadata": {},
   "outputs": [],
   "source": [
    "relevant_fieldsOfStudy = [\"Biology\", \"Chemistry\", \"Medicine\"]"
   ]
  },
  {
   "cell_type": "code",
   "execution_count": null,
   "id": "27508ba1",
   "metadata": {},
   "outputs": [],
   "source": [
    "input_dir = Path(\"../data/20210516-s2-open-research-corpus/2021-04-01/\")\n",
    "output_dir = Path(\"../data/interim/20210516-s2-open-research-corpus/2021-04-01/\")"
   ]
  },
  {
   "cell_type": "code",
   "execution_count": null,
   "id": "357fae32",
   "metadata": {},
   "outputs": [],
   "source": [
    "output_dir.mkdir(parents=True, exist_ok=True)"
   ]
  },
  {
   "cell_type": "code",
   "execution_count": null,
   "id": "eb62ff0e",
   "metadata": {},
   "outputs": [],
   "source": [
    "input_files = sorted(input_dir.glob(\"s2-corpus-*\"))\n",
    "output_file = output_dir / \"s2-corpus-filtered.gz\""
   ]
  },
  {
   "cell_type": "code",
   "execution_count": null,
   "id": "c3f66836",
   "metadata": {},
   "outputs": [],
   "source": [
    "with gzip.open(output_file, \"wt\") as fout:\n",
    "    for i in input_files:\n",
    "        print(i)\n",
    "        with gzip.open(i, \"rt\") as fin:\n",
    "            for line in fin:\n",
    "                j = json.loads(line)\n",
    "                is_relevant = any([f in relevant_fieldsOfStudy for f in j[\"fieldsOfStudy\"]])\n",
    "                if is_relevant:\n",
    "                    fout.write(line)"
   ]
  }
 ],
 "metadata": {
  "kernelspec": {
   "display_name": "Python 3",
   "language": "python",
   "name": "python3"
  },
  "language_info": {
   "codemirror_mode": {
    "name": "ipython",
    "version": 3
   },
   "file_extension": ".py",
   "mimetype": "text/x-python",
   "name": "python",
   "nbconvert_exporter": "python",
   "pygments_lexer": "ipython3",
   "version": "3.9.4"
  }
 },
 "nbformat": 4,
 "nbformat_minor": 5
}
